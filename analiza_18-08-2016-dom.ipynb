{
 "cells": [
  {
   "cell_type": "code",
   "execution_count": 1,
   "metadata": {
    "collapsed": true
   },
   "outputs": [],
   "source": [
    "# -*- coding: utf-8 -*-\n",
    "from __future__ import division #~ Domysle dzielenie int jako liczb float\n",
    "from igraph import *     #~ Do symulacji grafu\n",
    "import random            #~ Do wybierania losowych elementow z listy\n",
    "import matplotlib.pyplot as plt    #~ Do rysowania wykresow\n",
    "from  matplotlib import rc\n",
    "import itertools        #~ do list i iteratorow\n",
    "import numpy as np        #~ Do np.arange\n",
    "import time                #~ Do diagnostyki czasu wykonania\n",
    "import os                #~ Do sprawdzania istnienia folderów\n",
    "import gzip                #~ Do pakowania plikow wynikowych\n",
    "import cPickle as pickle   #~ Do pakowania plikow wynikowych\n",
    "# from FilesManagment import CheckFolder, CompressFile, CompressData, FindFileNumber, SaveToFileNumberOfFiles\n",
    "import SimulateClique"
   ]
  },
  {
   "cell_type": "code",
   "execution_count": 26,
   "metadata": {
    "collapsed": false
   },
   "outputs": [
    {
     "data": {
      "text/plain": [
       "<module 'SimulateClique' from 'SimulateClique.pyc'>"
      ]
     },
     "execution_count": 26,
     "metadata": {},
     "output_type": "execute_result"
    }
   ],
   "source": [
    "reload(SimulateClique)"
   ]
  },
  {
   "cell_type": "code",
   "execution_count": 3,
   "metadata": {
    "collapsed": true
   },
   "outputs": [],
   "source": [
    "rc('font', family='Arial') #Plotowanie polskich liter"
   ]
  },
  {
   "cell_type": "code",
   "execution_count": 39,
   "metadata": {
    "collapsed": false,
    "scrolled": true
   },
   "outputs": [
    {
     "name": "stdout",
     "output_type": "stream",
     "text": [
      "\n",
      "Rozpoczynam symulacje nr: 0 dla: \n",
      "ilosci wierzcholkow: 1500\n",
      "ilosci polaczen: 23250\n",
      "sredniego stopnia: 31.0\n",
      "ilosci klik: 4965\n",
      "wielkosc klik: 3\n",
      "start_mag: 0.48\n",
      "Magnetyzacja koncowa 15015  :  0.0206666666667\n",
      "\n",
      "Rozpoczynam symulacje nr: 1 dla: \n",
      "ilosci wierzcholkow: 1500\n",
      "ilosci polaczen: 23250\n",
      "sredniego stopnia: 31.0\n",
      "ilosci klik: 4971\n",
      "wielkosc klik: 3\n",
      "start_mag: 0.48\n",
      "Magnetyzacja koncowa 15015  :  0.0226666666667\n",
      "\n",
      "Rozpoczynam symulacje nr: 2 dla: \n",
      "ilosci wierzcholkow: 1500\n",
      "ilosci polaczen: 23250\n",
      "sredniego stopnia: 31.0\n",
      "ilosci klik: 4972\n",
      "wielkosc klik: 3\n",
      "start_mag: 0.48\n",
      "Magnetyzacja koncowa 15015  :  0.018\n",
      "\n",
      "Rozpoczynam symulacje nr: 3 dla: \n",
      "ilosci wierzcholkow: 1500\n",
      "ilosci polaczen: 23250\n",
      "sredniego stopnia: 31.0\n",
      "ilosci klik: 4935\n",
      "wielkosc klik: 3\n",
      "start_mag: 0.48\n",
      "Magnetyzacja koncowa 15015  :  0.044\n",
      "\n",
      "Rozpoczynam symulacje nr: 4 dla: \n",
      "ilosci wierzcholkow: 1500\n",
      "ilosci polaczen: 23250\n",
      "sredniego stopnia: 31.0\n",
      "ilosci klik: 4979\n",
      "wielkosc klik: 3\n",
      "start_mag: 0.48\n",
      "Magnetyzacja koncowa 15015  :  0.0173333333333\n",
      "Koniec jednej symulacji\n",
      "\n",
      "Rozpoczynam symulacje nr: 0 dla: \n",
      "ilosci wierzcholkow: 1500\n",
      "ilosci polaczen: 23250\n",
      "sredniego stopnia: 31.0\n",
      "ilosci klik: 4989\n",
      "wielkosc klik: 3\n",
      "start_mag: 0.49\n",
      "Magnetyzacja koncowa 15015  :  0.976\n",
      "\n",
      "Rozpoczynam symulacje nr: 1 dla: \n",
      "ilosci wierzcholkow: 1500\n",
      "ilosci polaczen: 23250\n",
      "sredniego stopnia: 31.0\n",
      "ilosci klik: 4973\n",
      "wielkosc klik: 3\n",
      "start_mag: 0.49\n",
      "Magnetyzacja koncowa 15015  :  0.964\n",
      "\n",
      "Rozpoczynam symulacje nr: 2 dla: \n",
      "ilosci wierzcholkow: 1500\n",
      "ilosci polaczen: 23250\n",
      "sredniego stopnia: 31.0\n",
      "ilosci klik: 4873\n",
      "wielkosc klik: 3\n",
      "start_mag: 0.49\n",
      "Magnetyzacja koncowa 15015  :  0.967333333333\n",
      "\n",
      "Rozpoczynam symulacje nr: 3 dla: \n",
      "ilosci wierzcholkow: 1500\n",
      "ilosci polaczen: 23250\n",
      "sredniego stopnia: 31.0\n",
      "ilosci klik: 4986\n",
      "wielkosc klik: 3\n",
      "start_mag: 0.49\n",
      "Magnetyzacja koncowa 15015  :  0.02\n",
      "\n",
      "Rozpoczynam symulacje nr: 4 dla: \n",
      "ilosci wierzcholkow: 1500\n",
      "ilosci polaczen: 23250\n",
      "sredniego stopnia: 31.0\n",
      "ilosci klik: 4896\n",
      "wielkosc klik: 3\n",
      "start_mag: 0.49\n",
      "Magnetyzacja koncowa 15015  :  0.225333333333\n",
      "Koniec jednej symulacji\n",
      "\n",
      "Rozpoczynam symulacje nr: 0 dla: \n",
      "ilosci wierzcholkow: 1500\n",
      "ilosci polaczen: 23250\n",
      "sredniego stopnia: 31.0\n",
      "ilosci klik: 5179\n",
      "wielkosc klik: 3\n",
      "start_mag: 0.5\n",
      "Magnetyzacja koncowa 15015  :  0.0173333333333\n",
      "\n",
      "Rozpoczynam symulacje nr: 1 dla: \n",
      "ilosci wierzcholkow: 1500\n",
      "ilosci polaczen: 23250\n",
      "sredniego stopnia: 31.0\n",
      "ilosci klik: 5066\n",
      "wielkosc klik: 3\n",
      "start_mag: 0.5\n",
      "Magnetyzacja koncowa 15015  :  0.0213333333333\n",
      "\n",
      "Rozpoczynam symulacje nr: 2 dla: \n",
      "ilosci wierzcholkow: 1500\n",
      "ilosci polaczen: 23250\n",
      "sredniego stopnia: 31.0\n",
      "ilosci klik: 4942\n",
      "wielkosc klik: 3\n",
      "start_mag: 0.5\n",
      "Magnetyzacja koncowa 15015  :  0.972666666667\n",
      "\n",
      "Rozpoczynam symulacje nr: 3 dla: \n",
      "ilosci wierzcholkow: 1500\n",
      "ilosci polaczen: 23250\n",
      "sredniego stopnia: 31.0\n",
      "ilosci klik: 5016\n",
      "wielkosc klik: 3\n",
      "start_mag: 0.5\n",
      "Magnetyzacja koncowa 15015  :  0.024\n",
      "\n",
      "Rozpoczynam symulacje nr: 4 dla: \n",
      "ilosci wierzcholkow: 1500\n",
      "ilosci polaczen: 23250\n",
      "sredniego stopnia: 31.0\n",
      "ilosci klik: 5015\n",
      "wielkosc klik: 3\n",
      "start_mag: 0.5\n",
      "Magnetyzacja koncowa 15015  :  0.976666666667\n",
      "Koniec jednej symulacji\n",
      "\n",
      "Rozpoczynam symulacje nr: 0 dla: \n",
      "ilosci wierzcholkow: 1500\n",
      "ilosci polaczen: 23250\n",
      "sredniego stopnia: 31.0\n",
      "ilosci klik: 4885\n",
      "wielkosc klik: 3\n",
      "start_mag: 0.51\n",
      "Magnetyzacja koncowa 15015  :  0.967333333333\n",
      "\n",
      "Rozpoczynam symulacje nr: 1 dla: \n",
      "ilosci wierzcholkow: 1500\n",
      "ilosci polaczen: 23250\n",
      "sredniego stopnia: 31.0\n",
      "ilosci klik: 5016\n",
      "wielkosc klik: 3\n",
      "start_mag: 0.51\n",
      "Magnetyzacja koncowa 15015  :  0.024\n",
      "\n",
      "Rozpoczynam symulacje nr: 2 dla: \n",
      "ilosci wierzcholkow: 1500\n",
      "ilosci polaczen: 23250\n",
      "sredniego stopnia: 31.0\n",
      "ilosci klik: 4890\n",
      "wielkosc klik: 3\n",
      "start_mag: 0.51\n",
      "Magnetyzacja koncowa 15015  :  0.952666666667\n",
      "\n",
      "Rozpoczynam symulacje nr: 3 dla: \n",
      "ilosci wierzcholkow: 1500\n",
      "ilosci polaczen: 23250\n",
      "sredniego stopnia: 31.0\n",
      "ilosci klik: 4922\n",
      "wielkosc klik: 3\n",
      "start_mag: 0.51\n",
      "Magnetyzacja koncowa 15015  :  0.956666666667\n",
      "\n",
      "Rozpoczynam symulacje nr: 4 dla: \n",
      "ilosci wierzcholkow: 1500\n",
      "ilosci polaczen: 23250\n",
      "sredniego stopnia: 31.0\n",
      "ilosci klik: 5027\n",
      "wielkosc klik: 3\n",
      "start_mag: 0.51\n",
      "Magnetyzacja koncowa 15015  :  0.963333333333\n",
      "Koniec jednej symulacji\n",
      "\n",
      "Rozpoczynam symulacje nr: 0 dla: \n",
      "ilosci wierzcholkow: 1500\n",
      "ilosci polaczen: 23250\n",
      "sredniego stopnia: 31.0\n",
      "ilosci klik: 5123\n",
      "wielkosc klik: 3\n",
      "start_mag: 0.52\n",
      "Magnetyzacja koncowa 15015  :  0.984\n",
      "\n",
      "Rozpoczynam symulacje nr: 1 dla: \n",
      "ilosci wierzcholkow: 1500\n",
      "ilosci polaczen: 23250\n",
      "sredniego stopnia: 31.0\n",
      "ilosci klik: 4816\n",
      "wielkosc klik: 3\n",
      "start_mag: 0.52\n",
      "Magnetyzacja koncowa 15015  :  0.97\n",
      "\n",
      "Rozpoczynam symulacje nr: 2 dla: \n",
      "ilosci wierzcholkow: 1500\n",
      "ilosci polaczen: 23250\n",
      "sredniego stopnia: 31.0\n",
      "ilosci klik: 5037\n",
      "wielkosc klik: 3\n",
      "start_mag: 0.52\n",
      "Magnetyzacja koncowa 15015  :  0.968\n",
      "\n",
      "Rozpoczynam symulacje nr: 3 dla: \n",
      "ilosci wierzcholkow: 1500\n",
      "ilosci polaczen: 23250\n",
      "sredniego stopnia: 31.0\n",
      "ilosci klik: 5015\n",
      "wielkosc klik: 3\n",
      "start_mag: 0.52\n",
      "Magnetyzacja koncowa 15015  :  0.975333333333\n",
      "\n",
      "Rozpoczynam symulacje nr: 4 dla: \n",
      "ilosci wierzcholkow: 1500\n",
      "ilosci polaczen: 23250\n",
      "sredniego stopnia: 31.0\n",
      "ilosci klik: 5013\n",
      "wielkosc klik: 3\n",
      "start_mag: 0.52\n",
      "Magnetyzacja koncowa 15015  :  0.976\n",
      "Koniec jednej symulacji\n",
      "Koniec Programu\n"
     ]
    }
   ],
   "source": [
    "# podstawowy skrypt do badania wlasnosci\n",
    "#~ Definicje stalych symulacji\n",
    "stg = {\n",
    "    'CONST_CLIQUE'    : 3,      #~ Wielkosc kliki\n",
    "    'CONST_VERTICES'  : 1500,    #~ Ilosc wezlow\n",
    "    'CONST_SIM_COUNT' : 5,      #~ Ilosc powtorzen symulacji\n",
    "    'CONST_PRINT'     : False,  #~ Czy drukowac magnetyzacje co CONST_VERTICES krokow?\n",
    "    'CONST_TIME'      : True,   #~ Czy przeprowadzac i drukowac wyniki diagnostyki?\n",
    "    'CONST_FOLDER'    : \"\",     #~ Nic nie robi\n",
    "    'CONST_OVERRIDEN' : False,  #~ Czy ma nadpisywac pliki podczas zapisywania wynikow\n",
    "    'CONST_COMPRESS'  : True,   #~ Czy ma kompresowac dane przez zapisem    \n",
    "    'CONST_SIM_LONG'  : 10,     # ile wielkosci N ma liczyc\n",
    "    'CONST_PATH_BASIC_FOLDER' : 'Wyniki_fazowe',\n",
    "    'CONST_START_MAGNETIZATION' : 0.5\n",
    "}\n",
    "\n",
    "k = 31\n",
    "stg['CONST_EDGES'] = int(round(k * stg['CONST_VERTICES'] // 2, 0)) #~ Ilosc polaczen\n",
    "stg['stopienG']    = round(stg['CONST_EDGES']/stg['CONST_VERTICES']*2, 1)\n",
    "\n",
    "START, STOP, STEP = 0.48, 0.51, 0.01\n",
    "for p in list(np.arange(START,STOP + STEP,STEP)):\n",
    "    stg['CONST_START_MAGNETIZATION'] = p\n",
    "    SimulateClique.jedna_symulacja(stg)\n",
    "\n",
    "print 'Koniec Programu'"
   ]
  },
  {
   "cell_type": "code",
   "execution_count": null,
   "metadata": {
    "collapsed": false
   },
   "outputs": [],
   "source": [
    "stg['CONST_START_MAGNETIZATION'] = 0.6"
   ]
  },
  {
   "cell_type": "code",
   "execution_count": null,
   "metadata": {
    "collapsed": false
   },
   "outputs": [],
   "source": [
    "np.array(np.random.random_sample(stg['CONST_VERTICES']) > (1-stg['CONST_START_MAGNETIZATION']), np.int).mean()"
   ]
  },
  {
   "cell_type": "code",
   "execution_count": 15,
   "metadata": {
    "collapsed": false
   },
   "outputs": [
    {
     "name": "stdout",
     "output_type": "stream",
     "text": [
      "1.450\n"
     ]
    }
   ],
   "source": [
    "print '{:0<5}'.format(1.45)"
   ]
  },
  {
   "cell_type": "code",
   "execution_count": 1,
   "metadata": {
    "collapsed": true
   },
   "outputs": [],
   "source": [
    "import datetime as dt"
   ]
  },
  {
   "cell_type": "code",
   "execution_count": 6,
   "metadata": {
    "collapsed": false
   },
   "outputs": [
    {
     "name": "stdout",
     "output_type": "stream",
     "text": [
      "2016-08-21 20:03:10\n"
     ]
    }
   ],
   "source": [
    "print dt.datetime.now().strftime(\"%Y-%m-%d %H:%M:%S\")"
   ]
  },
  {
   "cell_type": "code",
   "execution_count": 15,
   "metadata": {
    "collapsed": false
   },
   "outputs": [
    {
     "name": "stdout",
     "output_type": "stream",
     "text": [
      "Timedelta 1.0 ms\n"
     ]
    }
   ],
   "source": [
    "start_time = dt.datetime.now()\n",
    "for i in range(1000):\n",
    "    a = i**2\n",
    "end_time = dt.datetime.now()\n",
    "timedelta =  end_time - start_time\n",
    "print 'Timedelta', timedelta.total_seconds()*10**3, 'ms'"
   ]
  },
  {
   "cell_type": "code",
   "execution_count": 16,
   "metadata": {
    "collapsed": false
   },
   "outputs": [
    {
     "data": {
      "text/plain": [
       "['__abs__',\n",
       " '__add__',\n",
       " '__class__',\n",
       " '__coerce__',\n",
       " '__delattr__',\n",
       " '__div__',\n",
       " '__divmod__',\n",
       " '__doc__',\n",
       " '__eq__',\n",
       " '__float__',\n",
       " '__floordiv__',\n",
       " '__format__',\n",
       " '__ge__',\n",
       " '__getattribute__',\n",
       " '__getformat__',\n",
       " '__getnewargs__',\n",
       " '__gt__',\n",
       " '__hash__',\n",
       " '__init__',\n",
       " '__int__',\n",
       " '__le__',\n",
       " '__long__',\n",
       " '__lt__',\n",
       " '__mod__',\n",
       " '__mul__',\n",
       " '__ne__',\n",
       " '__neg__',\n",
       " '__new__',\n",
       " '__nonzero__',\n",
       " '__pos__',\n",
       " '__pow__',\n",
       " '__radd__',\n",
       " '__rdiv__',\n",
       " '__rdivmod__',\n",
       " '__reduce__',\n",
       " '__reduce_ex__',\n",
       " '__repr__',\n",
       " '__rfloordiv__',\n",
       " '__rmod__',\n",
       " '__rmul__',\n",
       " '__rpow__',\n",
       " '__rsub__',\n",
       " '__rtruediv__',\n",
       " '__setattr__',\n",
       " '__setformat__',\n",
       " '__sizeof__',\n",
       " '__str__',\n",
       " '__sub__',\n",
       " '__subclasshook__',\n",
       " '__truediv__',\n",
       " '__trunc__',\n",
       " 'as_integer_ratio',\n",
       " 'conjugate',\n",
       " 'fromhex',\n",
       " 'hex',\n",
       " 'imag',\n",
       " 'is_integer',\n",
       " 'real']"
      ]
     },
     "execution_count": 16,
     "metadata": {},
     "output_type": "execute_result"
    }
   ],
   "source": [
    "dir(timedelta.total_seconds())"
   ]
  },
  {
   "cell_type": "code",
   "execution_count": null,
   "metadata": {
    "collapsed": true
   },
   "outputs": [],
   "source": []
  }
 ],
 "metadata": {
  "kernelspec": {
   "display_name": "Python 2",
   "language": "python",
   "name": "python2"
  },
  "language_info": {
   "codemirror_mode": {
    "name": "ipython",
    "version": 2
   },
   "file_extension": ".py",
   "mimetype": "text/x-python",
   "name": "python",
   "nbconvert_exporter": "python",
   "pygments_lexer": "ipython2",
   "version": "2.7.11"
  }
 },
 "nbformat": 4,
 "nbformat_minor": 0
}
