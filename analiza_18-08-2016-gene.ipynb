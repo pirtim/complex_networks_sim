{
 "cells": [
  {
   "cell_type": "code",
   "execution_count": 1,
   "metadata": {
    "collapsed": false
   },
   "outputs": [],
   "source": [
    "# %matplotlib inline\n",
    "# -*- coding: utf-8 -*-\n",
    "from __future__ import division #~ Domysle dzielenie int jako liczb float\n",
    "from igraph import *     #~ Do symulacji grafu\n",
    "import random            #~ Do wybierania losowych elementow z listy\n",
    "# from  matplotlib import rc\n",
    "import itertools        #~ do list i iteratorow\n",
    "import numpy as np        #~ Do np.arange\n",
    "import time                #~ Do diagnostyki czasu wykonania\n",
    "import os                #~ Do sprawdzania istnienia folderów\n",
    "import gzip                #~ Do pakowania plikow wynikowych\n",
    "import cPickle as pickle   #~ Do pakowania plikow wynikowych\n",
    "# from FilesManagment import CheckFolder, CompressFile, CompressData, FindFileNumber, SaveToFileNumberOfFiles"
   ]
  },
  {
   "cell_type": "code",
   "execution_count": 2,
   "metadata": {
    "collapsed": true
   },
   "outputs": [],
   "source": [
    "import numpy as np        #~ Do np.arange"
   ]
  },
  {
   "cell_type": "code",
   "execution_count": 3,
   "metadata": {
    "collapsed": false
   },
   "outputs": [
    {
     "data": {
      "text/plain": [
       "<module 'SimulateClique' from '/dmj/fizmed/pkowalczyk/now/licencjat/SimulateClique.pyc'>"
      ]
     },
     "execution_count": 3,
     "metadata": {},
     "output_type": "execute_result"
    }
   ],
   "source": [
    "import sys\n",
    "sys.path.append('/dmj/fizmed/pkowalczyk/now/licencjat')\n",
    "import SimulateClique\n",
    "reload(SimulateClique)"
   ]
  },
  {
   "cell_type": "code",
   "execution_count": 3,
   "metadata": {
    "collapsed": true
   },
   "outputs": [],
   "source": [
    "# rc('font', family='Arial') #Plotowanie polskich liter"
   ]
  },
  {
   "cell_type": "code",
   "execution_count": null,
   "metadata": {
    "collapsed": false
   },
   "outputs": [
    {
     "name": "stdout",
     "output_type": "stream",
     "text": [
      "\n",
      "Rozpoczynam symulacje nr: 0 dla: \n",
      "ilosci wierzcholkow: 10000\n",
      "ilosci polaczen: 160000\n",
      "sredniego stopnia: 32.0\n",
      "ilosci klik: 5494\n",
      "wielkosc klik: 3\n",
      "start_mag: 0.5\n",
      "Magnetyzacja koncowa 140100  :  0.5016\n"
     ]
    }
   ],
   "source": [
    "# podstawowy skrypt do badania wlasnosci\n",
    "#~ Definicje stalych symulacji\n",
    "stg = {\n",
    "    'CONST_CLIQUE'    : 3,      #~ Wielkosc kliki\n",
    "    'CONST_VERTICES'  : 10000,    #~ Ilosc wezlow\n",
    "    'CONST_SIM_COUNT' : 1,      #~ Ilosc powtorzen symulacji\n",
    "    'CONST_PRINT'     : False,  #~ Czy drukowac magnetyzacje co CONST_VERTICES krokow?\n",
    "    'CONST_TIME'      : True,   #~ Czy przeprowadzac i drukowac wyniki diagnostyki?\n",
    "    'CONST_FOLDER'    : \"\",     #~ Nic nie robi\n",
    "    'CONST_OVERRIDEN' : False,  #~ Czy ma nadpisywac pliki podczas zapisywania wynikow\n",
    "    'CONST_COMPRESS'  : True,   #~ Czy ma kompresowac dane przez zapisem    \n",
    "    'CONST_SIM_LONG'  : 14,     # ile wielkosci N ma liczyc\n",
    "    'CONST_PATH_BASIC_FOLDER' : 'Wyniki_fazowe',\n",
    "    'CONST_START_MAGNETIZATION' : 0.5\n",
    "}\n",
    "\n",
    "k = 36\n",
    "stg['CONST_EDGES'] = int(round(k * stg['CONST_VERTICES'] // 2, 0)) #~ Ilosc polaczen\n",
    "stg['stopienG']    = round(stg['CONST_EDGES']/stg['CONST_VERTICES']*2, 1)\n",
    "\n",
    "START, STOP, STEP = 0.50, 0.50, 0.01\n",
    "for p in list(np.arange(START,STOP + STEP,STEP)):\n",
    "    stg['CONST_START_MAGNETIZATION'] = p\n",
    "    SimulateClique.jedna_symulacja(stg)\n",
    "\n",
    "print 'Koniec Programu'"
   ]
  },
  {
   "cell_type": "code",
   "execution_count": 4,
   "metadata": {
    "collapsed": true
   },
   "outputs": [],
   "source": [
    "import ipyparallel\n",
    "clients = ipyparallel.Client()\n",
    "# dview = clients.direct_view()"
   ]
  },
  {
   "cell_type": "code",
   "execution_count": 5,
   "metadata": {
    "collapsed": false
   },
   "outputs": [],
   "source": [
    "dview = clients[:]"
   ]
  },
  {
   "cell_type": "code",
   "execution_count": 6,
   "metadata": {
    "collapsed": false
   },
   "outputs": [
    {
     "name": "stdout",
     "output_type": "stream",
     "text": [
      "[1, 1, 1, 1, 1, 1, 1, 1]\n"
     ]
    }
   ],
   "source": [
    "results = dview.map_sync(lambda x: int(1), range(8))\n",
    "print results"
   ]
  },
  {
   "cell_type": "code",
   "execution_count": null,
   "metadata": {
    "collapsed": false,
    "scrolled": false
   },
   "outputs": [
    {
     "name": "stdout",
     "output_type": "stream",
     "text": [
      "0.505\n",
      "[True, True, True, True, True, True, True, True]\n",
      "0.5075\n"
     ]
    }
   ],
   "source": [
    "# with dview.sync_imports():\n",
    "#     import SimulateClique #[1]\n",
    "# from ipyparallel.util import interactive\n",
    "\n",
    "%px %matplotlib inline\n",
    "# import matplotlib\n",
    "# dview.apply_sync(matplotlib.use, 'agg')\n",
    "\n",
    "def ippsim(p):\n",
    "    def simulation(x):\n",
    "        stg = {\n",
    "            'CONST_CLIQUE'    : 3,      #~ Wielkosc kliki\n",
    "            'CONST_VERTICES'  : 10000,    #~ Ilosc wezlow\n",
    "            'CONST_SIM_COUNT' : 2,      #~ Ilosc powtorzen symulacji\n",
    "            'CONST_PRINT'     : False,  #~ Czy drukowac magnetyzacje co CONST_VERTICES krokow?\n",
    "            'CONST_TIME'      : True,   #~ Czy przeprowadzac i drukowac wyniki diagnostyki?\n",
    "            'CONST_FOLDER'    : \"\",     #~ Nic nie robi\n",
    "            'CONST_OVERRIDEN' : False,  #~ Czy ma nadpisywac pliki podczas zapisywania wynikow\n",
    "            'CONST_COMPRESS'  : True,   #~ Czy ma kompresowac dane przez zapisem    \n",
    "            'CONST_SIM_LONG'  : 11,     # ile wielkosci N ma liczyc\n",
    "            'CONST_PATH_BASIC_FOLDER' : 'now/Wyniki_fazowe',\n",
    "            'CONST_START_MAGNETIZATION' : 0.5\n",
    "        }\n",
    "\n",
    "        k = 77\n",
    "        stg['CONST_EDGES']  = int(round(k * stg['CONST_VERTICES'] // 2, 0)) #~ Ilosc polaczen\n",
    "        stg['CONST_MEAN_k'] = round(stg['CONST_EDGES']/stg['CONST_VERTICES']*2, 1)    \n",
    "        stg['CONST_START_MAGNETIZATION'] = p\n",
    "\n",
    "        import sys\n",
    "        sys.path.append('/dmj/fizmed/pkowalczyk/now/licencjat')\n",
    "        import SimulateClique\n",
    "        return SimulateClique.jedna_symulacja(stg)\n",
    "    return simulation\n",
    "\n",
    "START, STOP, STEP = 0.5050, 0.52, 0.0025\n",
    "for p in np.arange(START,STOP + STEP,STEP):\n",
    "    print p\n",
    "    results = dview.map_sync(ippsim(p), range(8))\n",
    "    print results\n",
    "\n",
    "print 'Koniec Programu'"
   ]
  },
  {
   "cell_type": "code",
   "execution_count": 11,
   "metadata": {
    "collapsed": false
   },
   "outputs": [
    {
     "data": {
      "text/plain": [
       "<module 'ipyparallel.util' from '/dmj/fizmed/pkowalczyk/.local/lib/python2.7/site-packages/ipyparallel/util.pyc'>"
      ]
     },
     "execution_count": 11,
     "metadata": {},
     "output_type": "execute_result"
    }
   ],
   "source": [
    "ipyparallel.util"
   ]
  },
  {
   "cell_type": "code",
   "execution_count": null,
   "metadata": {
    "collapsed": false
   },
   "outputs": [],
   "source": [
    "np.array(np.random.random_sample(stg['CONST_VERTICES']) > (1-stg['CONST_START_MAGNETIZATION']), np.int).mean()"
   ]
  },
  {
   "cell_type": "code",
   "execution_count": 8,
   "metadata": {
    "collapsed": false
   },
   "outputs": [
    {
     "name": "stdout",
     "output_type": "stream",
     "text": [
      "1.450\n"
     ]
    }
   ],
   "source": [
    "print '{:0<5}'.format(1.45)"
   ]
  },
  {
   "cell_type": "code",
   "execution_count": 23,
   "metadata": {
    "collapsed": false
   },
   "outputs": [],
   "source": [
    "from __future__ import division #~ Domysle dzielenie int jako liczb float\n",
    "%matplotlib inline\n",
    "\n",
    "import sys\n",
    "import os\n",
    "import json\n",
    "sys.path.append('/dmj/fizmed/pkowalczyk/now/complex_networks_sim')\n",
    "from FilesManagment import CheckFolder\n",
    "import matplotlib.pyplot as plt"
   ]
  },
  {
   "cell_type": "code",
   "execution_count": 34,
   "metadata": {
    "collapsed": true
   },
   "outputs": [],
   "source": [
    "def plotuj(stg, data):\n",
    "    fig = plt.figure()\n",
    "    plt.plot(data[0],data[1], '--o')\n",
    "    plt.ylim(0,1)\n",
    "    plt.xlim(0,1)\n",
    "    plt.ylabel('Prawdopodobienstwo uzyskanie koncowego stanu sieci *w gore*')\n",
    "    plt.xlabel('Poczatkowa magnetyzacja, N=6000')\n",
    "    fig.suptitle('Zaleznosc koncowej magnetyzacji od sredniego stopnia wiercholkow sieci')\n",
    "    fig.savefig(os.path.join(stg['CONST_STANDARD_PATH_ANALYZE'],'faza_dla_k{}N{}.png'.format(stg['CONST_CLIQUE'],stg['CONST_VERTICES'])), dpi = 200)\n",
    "    fig.clf()\n",
    "\n",
    "def check_folder_k(spin, path_file, basic_dir, stg):\n",
    "    path_k = os.path.join(basic_dir, path_file, 'k{}'.format(spin))\n",
    "    result = 0\n",
    "    if os.path.exists(path_k):\n",
    "        for path_opis in filter(lambda name: name.endswith('.json'), os.listdir(path_k)):\n",
    "            with open(os.path.join(path_k, path_opis), 'r') as f:\n",
    "                dic = json.load(f)\n",
    "            if dic['CONST_VERTICES'] == stg['CONST_VERTICES'] and dic['WYN_meanG'] == stg['WYN_meanG']:\n",
    "                result += 1\n",
    "    return result\n",
    "\n",
    "def analyze(stg):\n",
    "    stg['CONST_STANDARD_PATH_ANALYZE'] = os.path.join(stg['CONST_PATH_BASIC_FOLDER'], 'analyze')\n",
    "    CheckFolder(stg['CONST_STANDARD_PATH_ANALYZE'])\n",
    "    stg['CONST_SHORT_RAW_PATH'] = os.path.join(stg['CONST_PATH_BASIC_FOLDER'], 'RawDataMag', 'klik' + str(stg['CONST_CLIQUE']), 'mag_start')\n",
    "\n",
    "    x, y = [], []\n",
    "    basic_dir = stg['CONST_SHORT_RAW_PATH']\n",
    "    for path_file in sorted(os.listdir(basic_dir)):\n",
    "        down = check_folder_k(0, path_file, basic_dir, stg)\n",
    "        up   = check_folder_k(1, path_file, basic_dir, stg)\n",
    "        if up + down != 0:\n",
    "            x.append(float(path_file))\n",
    "            y.append(up/(up+down))  \n",
    "\n",
    "    wynik = (x,y)\n",
    "    print wynik\n",
    "    if stg['CONST_DUMP']:\n",
    "        with open(os.path.join(stg['CONST_STANDARD_PATH_ANALYZE'], 'raw_2.data') , 'w') as f:\n",
    "            f.writelines(str(wynik))\n",
    "    plotuj(stg, wynik)"
   ]
  },
  {
   "cell_type": "code",
   "execution_count": 35,
   "metadata": {
    "collapsed": false
   },
   "outputs": [
    {
     "name": "stdout",
     "output_type": "stream",
     "text": [
      "([0.45, 0.46, 0.47, 0.48, 0.49, 0.5, 0.51, 0.52, 0.53, 0.54, 0.55, 0.56], [0.0, 0.0, 0.0, 0.0, 0.1875, 0.625, 1.0, 1.0, 1.0, 1.0, 1.0, 1.0])\n"
     ]
    },
    {
     "data": {
      "text/plain": [
       "<matplotlib.figure.Figure at 0x7f01f80a2750>"
      ]
     },
     "metadata": {},
     "output_type": "display_data"
    }
   ],
   "source": [
    "stg = {\n",
    "        'CONST_CLIQUE'    : 3,      #~ Wielkosc kliki\n",
    "        'CONST_VERTICES'  : 10000,   #~ Ilosc wezlow\n",
    "        'CONST_OVERRIDEN' : False,  #~ Czy ma nadpisywac pliki podczas zapisywania wynikow\n",
    "        'CONST_COMPRESS'  : True,   #~ Czy ma kompresowac dane przez zapisem        \n",
    "        'CONST_DUMP'      : True,   # czy ma zrzucac wektory wynikow \n",
    "        'CONST_PATH_BASIC_FOLDER' : 'Wyniki_fazowe',\n",
    "        'WYN_meanG' : 77\n",
    "    }\n",
    "\n",
    "analyze(stg)"
   ]
  },
  {
   "cell_type": "code",
   "execution_count": null,
   "metadata": {
    "collapsed": true
   },
   "outputs": [],
   "source": []
  }
 ],
 "metadata": {
  "kernelspec": {
   "display_name": "Python 2",
   "language": "python",
   "name": "python2"
  },
  "language_info": {
   "codemirror_mode": {
    "name": "ipython",
    "version": 2
   },
   "file_extension": ".py",
   "mimetype": "text/x-python",
   "name": "python",
   "nbconvert_exporter": "python",
   "pygments_lexer": "ipython2",
   "version": "2.7.9"
  }
 },
 "nbformat": 4,
 "nbformat_minor": 0
}
